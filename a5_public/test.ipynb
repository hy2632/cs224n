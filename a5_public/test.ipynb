{
 "metadata": {
  "language_info": {
   "codemirror_mode": {
    "name": "ipython",
    "version": 3
   },
   "file_extension": ".py",
   "mimetype": "text/x-python",
   "name": "python",
   "nbconvert_exporter": "python",
   "pygments_lexer": "ipython3",
   "version": 3
  },
  "orig_nbformat": 2,
  "kernelspec": {
   "name": "python_defaultSpec_1595274186260",
   "display_name": "Python 3.7.7 64-bit ('local_nmt': conda)"
  }
 },
 "nbformat": 4,
 "nbformat_minor": 2,
 "cells": [
  {
   "cell_type": "code",
   "execution_count": 27,
   "metadata": {
    "tags": []
   },
   "outputs": [
    {
     "output_type": "stream",
     "name": "stdout",
     "text": "The autoreload extension is already loaded. To reload it, use:\n  %reload_ext autoreload\n"
    }
   ],
   "source": [
    "import torch\n",
    "\n",
    "%load_ext autoreload\n",
    "%autoreload 2\n",
    "\n",
    "from utils import pad_sents_char\n",
    "from collections import Counter\n",
    "from itertools import chain\n"
   ]
  },
  {
   "cell_type": "code",
   "execution_count": 2,
   "metadata": {},
   "outputs": [],
   "source": [
    "word2id = dict()"
   ]
  },
  {
   "cell_type": "code",
   "execution_count": 3,
   "metadata": {},
   "outputs": [],
   "source": [
    "word2id['<pad>'] = 0  # Pad Token\n",
    "word2id['<s>'] = 1  # Start Token\n",
    "word2id['</s>'] = 2  # End Token\n",
    "word2id['<unk>'] = 3  # Unknown Token\n",
    "word2id['a'] = 4\n"
   ]
  },
  {
   "cell_type": "code",
   "execution_count": 4,
   "metadata": {},
   "outputs": [
    {
     "output_type": "execute_result",
     "data": {
      "text/plain": "'nothing'"
     },
     "metadata": {},
     "execution_count": 4
    }
   ],
   "source": [
    "word2id.get('b','nothing')"
   ]
  },
  {
   "cell_type": "code",
   "execution_count": 5,
   "metadata": {},
   "outputs": [],
   "source": [
    "char2id = dict(zip([i for i in '/{/}abcdefghijklmnopqrstuvwxyzABCDEFGHIJKLMNOPQRSTUVWXYZ'], [i for i in range(1,55)]))"
   ]
  },
  {
   "cell_type": "code",
   "execution_count": 6,
   "metadata": {},
   "outputs": [],
   "source": [
    "# words2charindices将句子转换为char level indices\n",
    "def words2charindices(sents):\n",
    "    \"\"\" Convert list of sentences of words into list of list of list of character indices.\n",
    "    @param sents (list[list[str]]): sentence(s) in words\n",
    "    @return word_ids (list[list[list[int]]]): sentence(s) in indices\n",
    "    \"\"\"\n",
    "    return [[[char2id.get(c, '<unk>') for c in (\"{\" + w + \"}\")] for w in s] for s in sents]"
   ]
  },
  {
   "cell_type": "code",
   "execution_count": 7,
   "metadata": {},
   "outputs": [],
   "source": [
    "sents = [['This', 'is', 'a', 'sentence'],['Hello', 'World']]"
   ]
  },
  {
   "cell_type": "code",
   "execution_count": 8,
   "metadata": {},
   "outputs": [
    {
     "output_type": "execute_result",
     "data": {
      "text/plain": "[[[2, 50, 12, 13, 23, 4],\n  [2, 13, 23, 4],\n  [2, 5, 4],\n  [2, 23, 9, 18, 24, 9, 18, 7, 9, 4]],\n [[2, 38, 9, 16, 16, 19, 4], [2, 53, 19, 22, 16, 8, 4]]]"
     },
     "metadata": {},
     "execution_count": 8
    }
   ],
   "source": [
    "words2charindices(sents)"
   ]
  },
  {
   "cell_type": "code",
   "execution_count": 9,
   "metadata": {},
   "outputs": [],
   "source": [
    "sents_var = torch.tensor(pad_sents_char(words2charindices(sents), 0))"
   ]
  },
  {
   "cell_type": "code",
   "execution_count": 25,
   "metadata": {},
   "outputs": [
    {
     "output_type": "execute_result",
     "data": {
      "text/plain": "tensor([[[ 2, 50, 12, 13, 23,  4,  0,  0,  0,  0],\n         [ 2, 13, 23,  4,  0,  0,  0,  0,  0,  0]],\n\n        [[ 2,  5,  4,  0,  0,  0,  0,  0,  0,  0],\n         [ 2, 23,  9, 18, 24,  9, 18,  7,  9,  4]],\n\n        [[ 2, 38,  9, 16, 16, 19,  4,  0,  0,  0],\n         [ 2, 53, 19, 22, 16,  8,  4,  0,  0,  0]],\n\n        [[ 0,  0,  0,  0,  0,  0,  0,  0,  0,  0],\n         [ 0,  0,  0,  0,  0,  0,  0,  0,  0,  0]]])"
     },
     "metadata": {},
     "execution_count": 25
    }
   ],
   "source": [
    "sents_var.view([sents_var.size()[1], sents_var.size()[0], -1]).contiguous()"
   ]
  },
  {
   "cell_type": "code",
   "execution_count": 38,
   "metadata": {},
   "outputs": [
    {
     "output_type": "execute_result",
     "data": {
      "text/plain": "Counter({'a': 3, 'b': 2, 'c': 1})"
     },
     "metadata": {},
     "execution_count": 38
    }
   ],
   "source": [
    "word_freq = Counter(chain(*['a','b','c','a', 'a', 'b']))\n",
    "word_freq"
   ]
  },
  {
   "cell_type": "code",
   "execution_count": 39,
   "metadata": {},
   "outputs": [
    {
     "output_type": "execute_result",
     "data": {
      "text/plain": "['a', 'b', 'c']"
     },
     "metadata": {},
     "execution_count": 39
    }
   ],
   "source": [
    "valid_words = ['a','b','c']\n",
    "sorted(valid_words, key=lambda w:word_freq[w], reverse=True)"
   ]
  }
 ]
}