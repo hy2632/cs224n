{
 "metadata": {
  "language_info": {
   "codemirror_mode": {
    "name": "ipython",
    "version": 3
   },
   "file_extension": ".py",
   "mimetype": "text/x-python",
   "name": "python",
   "nbconvert_exporter": "python",
   "pygments_lexer": "ipython3",
   "version": 3
  },
  "orig_nbformat": 2,
  "kernelspec": {
   "name": "python_defaultSpec_1595535841358",
   "display_name": "Python 3.7.7 64-bit ('local_nmt': conda)"
  }
 },
 "nbformat": 4,
 "nbformat_minor": 2,
 "cells": [
  {
   "cell_type": "code",
   "execution_count": 1,
   "metadata": {
    "tags": []
   },
   "outputs": [
    {
     "output_type": "stream",
     "name": "stderr",
     "text": "[nltk_data] Downloading package punkt to\n[nltk_data]     /home/hy2632_ubuntu20/nltk_data...\n[nltk_data]   Package punkt is already up-to-date!\n"
    }
   ],
   "source": [
    "import torch\n",
    "\n",
    "%load_ext autoreload\n",
    "%autoreload 2\n",
    "\n",
    "from utils import pad_sents_char\n",
    "from collections import Counter\n",
    "from itertools import chain\n"
   ]
  },
  {
   "cell_type": "code",
   "execution_count": 2,
   "metadata": {},
   "outputs": [],
   "source": [
    "word2id = dict()"
   ]
  },
  {
   "cell_type": "code",
   "execution_count": 3,
   "metadata": {},
   "outputs": [],
   "source": [
    "word2id['<pad>'] = 0  # Pad Token\n",
    "word2id['<s>'] = 1  # Start Token\n",
    "word2id['</s>'] = 2  # End Token\n",
    "word2id['<unk>'] = 3  # Unknown Token\n",
    "word2id['a'] = 4\n"
   ]
  },
  {
   "cell_type": "code",
   "execution_count": 4,
   "metadata": {},
   "outputs": [
    {
     "output_type": "execute_result",
     "data": {
      "text/plain": "'nothing'"
     },
     "metadata": {},
     "execution_count": 4
    }
   ],
   "source": [
    "word2id.get('b','nothing')"
   ]
  },
  {
   "cell_type": "code",
   "execution_count": 5,
   "metadata": {},
   "outputs": [],
   "source": [
    "char2id = dict(zip([i for i in '/{/}abcdefghijklmnopqrstuvwxyzABCDEFGHIJKLMNOPQRSTUVWXYZ'], [i for i in range(1,55)]))"
   ]
  },
  {
   "cell_type": "code",
   "execution_count": 6,
   "metadata": {},
   "outputs": [],
   "source": [
    "# words2charindices将句子转换为char level indices\n",
    "def words2charindices(sents):\n",
    "    \"\"\" Convert list of sentences of words into list of list of list of character indices.\n",
    "    @param sents (list[list[str]]): sentence(s) in words\n",
    "    @return word_ids (list[list[list[int]]]): sentence(s) in indices\n",
    "    \"\"\"\n",
    "    return [[[char2id.get(c, '<unk>') for c in (\"{\" + w + \"}\")] for w in s] for s in sents]"
   ]
  },
  {
   "cell_type": "code",
   "execution_count": 7,
   "metadata": {},
   "outputs": [],
   "source": [
    "sents = [['This', 'is', 'a', 'sentence'],['Hello', 'World']]"
   ]
  },
  {
   "cell_type": "code",
   "execution_count": 8,
   "metadata": {},
   "outputs": [
    {
     "output_type": "execute_result",
     "data": {
      "text/plain": "[[[2, 50, 12, 13, 23, 4],\n  [2, 13, 23, 4],\n  [2, 5, 4],\n  [2, 23, 9, 18, 24, 9, 18, 7, 9, 4]],\n [[2, 38, 9, 16, 16, 19, 4], [2, 53, 19, 22, 16, 8, 4]]]"
     },
     "metadata": {},
     "execution_count": 8
    }
   ],
   "source": [
    "words2charindices(sents)"
   ]
  },
  {
   "cell_type": "code",
   "execution_count": 9,
   "metadata": {},
   "outputs": [],
   "source": [
    "sents_var = torch.tensor(pad_sents_char(words2charindices(sents), 0))"
   ]
  },
  {
   "cell_type": "code",
   "execution_count": 10,
   "metadata": {},
   "outputs": [
    {
     "output_type": "execute_result",
     "data": {
      "text/plain": "tensor([[[ 2, 50, 12, 13, 23,  4,  0,  0,  0,  0],\n         [ 2, 13, 23,  4,  0,  0,  0,  0,  0,  0]],\n\n        [[ 2,  5,  4,  0,  0,  0,  0,  0,  0,  0],\n         [ 2, 23,  9, 18, 24,  9, 18,  7,  9,  4]],\n\n        [[ 2, 38,  9, 16, 16, 19,  4,  0,  0,  0],\n         [ 2, 53, 19, 22, 16,  8,  4,  0,  0,  0]],\n\n        [[ 0,  0,  0,  0,  0,  0,  0,  0,  0,  0],\n         [ 0,  0,  0,  0,  0,  0,  0,  0,  0,  0]]])"
     },
     "metadata": {},
     "execution_count": 10
    }
   ],
   "source": [
    "sents_var.view([sents_var.size()[1], sents_var.size()[0], -1]).contiguous()"
   ]
  },
  {
   "cell_type": "code",
   "execution_count": 11,
   "metadata": {},
   "outputs": [
    {
     "output_type": "execute_result",
     "data": {
      "text/plain": "Counter({'a': 3, 'b': 2, 'c': 1})"
     },
     "metadata": {},
     "execution_count": 11
    }
   ],
   "source": [
    "word_freq = Counter(chain(*['a','b','c','a', 'a', 'b']))\n",
    "word_freq"
   ]
  },
  {
   "cell_type": "code",
   "execution_count": 12,
   "metadata": {
    "tags": []
   },
   "outputs": [
    {
     "output_type": "stream",
     "name": "stdout",
     "text": "The history saving thread hit an unexpected error (OperationalError('disk I/O error')).History will not be written to the database."
    },
    {
     "output_type": "execute_result",
     "data": {
      "text/plain": "['a', 'b', 'c']"
     },
     "metadata": {},
     "execution_count": 12
    },
    {
     "output_type": "stream",
     "name": "stdout",
     "text": "\n"
    }
   ],
   "source": [
    "valid_words = ['a','b','c']\n",
    "sorted(valid_words, key=lambda w:word_freq[w], reverse=True)"
   ]
  },
  {
   "cell_type": "code",
   "execution_count": 13,
   "metadata": {},
   "outputs": [
    {
     "output_type": "execute_result",
     "data": {
      "text/plain": "(tensor([0.0644, 0.2782, 0.0841]),\n tensor([-0.1281,  1.2218,  2.1774]),\n tensor([-0.0082,  0.3399,  0.1831]))"
     },
     "metadata": {},
     "execution_count": 13
    }
   ],
   "source": [
    "a = torch.randn(3)\n",
    "b = torch.randn(3)\n",
    "a, b, a*b"
   ]
  },
  {
   "cell_type": "code",
   "execution_count": 14,
   "metadata": {},
   "outputs": [
    {
     "output_type": "execute_result",
     "data": {
      "text/plain": "tensor([0.9356, 0.7218, 0.9159])"
     },
     "metadata": {},
     "execution_count": 14
    }
   ],
   "source": [
    "1-a"
   ]
  },
  {
   "cell_type": "code",
   "execution_count": 15,
   "metadata": {},
   "outputs": [
    {
     "output_type": "execute_result",
     "data": {
      "text/plain": "tensor([0.0644, 0.2782, 0.0841])"
     },
     "metadata": {},
     "execution_count": 15
    }
   ],
   "source": [
    "a"
   ]
  },
  {
   "cell_type": "code",
   "execution_count": 16,
   "metadata": {},
   "outputs": [
    {
     "output_type": "execute_result",
     "data": {
      "text/plain": "tensor([0.9356, 0.7218, 0.9159])"
     },
     "metadata": {},
     "execution_count": 16
    }
   ],
   "source": [
    "torch.tensor(1) - a"
   ]
  },
  {
   "cell_type": "code",
   "execution_count": 17,
   "metadata": {},
   "outputs": [
    {
     "output_type": "execute_result",
     "data": {
      "text/plain": "torch.Size([5, 60])"
     },
     "metadata": {},
     "execution_count": 17
    }
   ],
   "source": [
    "a = torch.randn(5,60)\n",
    "a.size()"
   ]
  },
  {
   "cell_type": "code",
   "execution_count": 18,
   "metadata": {},
   "outputs": [
    {
     "output_type": "execute_result",
     "data": {
      "text/plain": "torch.Size([5, 12, 5])"
     },
     "metadata": {},
     "execution_count": 18
    }
   ],
   "source": [
    "a.view(a.size()[0], 12, -1).size()"
   ]
  },
  {
   "cell_type": "code",
   "execution_count": 20,
   "metadata": {},
   "outputs": [],
   "source": [
    "#!/usr/bin/env python3\n",
    "# -*- coding: utf-8 -*-\n",
    "\"\"\"\n",
    "CS224N 2019-20: Homework 5\n",
    "\"\"\"\n",
    "\n",
    "import torch\n",
    "import torch.nn as nn\n",
    "\n",
    "import torch.nn.functional as F\n",
    "\n",
    "\n",
    "class CNN(nn.Module):\n",
    "    \"\"\" CNN, mapping x_reshaped to x_conv_out \\n\n",
    "        @param filters (int): number of filters \\n\n",
    "        @param kernel_size (int): default as k=5 \\n\n",
    "        @param stride (int): default as stride=1 \\n\n",
    "    \"\"\"\n",
    "\n",
    "    # Remember to delete the above 'pass' after your implementation\n",
    "    ### YOUR CODE HERE for part 1g\n",
    "    def __init__(\n",
    "        self,\n",
    "        e_char: int = 50,\n",
    "        m_word: int = 12,\n",
    "        k: int = 5,\n",
    "        padding: int = 1,\n",
    "        f: int = 50, #by default, f = e_char\n",
    "    ):\n",
    "        super(CNN, self).__init__()\n",
    "        self.e_char = e_char\n",
    "        self.m_word = m_word\n",
    "        self.k = k\n",
    "        self.padding = padding\n",
    "        self.f = f\n",
    "        self.conv1d = nn.Conv1d(\n",
    "            in_channels=self.e_char,\n",
    "            out_channels=self.f,\n",
    "            kernel_size=self.k,\n",
    "            padding=self.padding,\n",
    "            bias=True,\n",
    "        )\n",
    "        # maxpool from e_char*(m_word - k + 1) to e_char\n",
    "        self.maxpool = nn.MaxPool1d(kernel_size=self.m_word -\n",
    "                                     self.k + 1 + 2*self.padding)\n",
    "\n",
    "    def forward(\n",
    "        self,\n",
    "        x_reshaped: torch.Tensor,\n",
    "    ) -> torch.Tensor:\n",
    "        \"\"\" Map from x_reshaped to x_conv_out\\n\n",
    "            @param x_reshaped (Tensor): Tensor with shape of (batch_size, sentence_length, m_word, e_char) \\n\n",
    "            @return x_conv_out (Tensor) : Tensor with shape of (batch_size, sentence_length, e_char) \\n\n",
    "        \"\"\"\n",
    "        batch_size = x_reshaped.size()[0]\n",
    "        sentence_length = x_reshaped.size()[1] \n",
    "        x_conv = self.conv1d(x_reshaped.view(sentence_length*batch_size, self.e_char, self.m_word))\n",
    "\n",
    "        x_conv_out = self.maxpool(F.relu(x_conv)).squeeze(-1)\n",
    "        x_conv_out = x_conv_out.view(sentence_length, batch_size, -1)\n",
    "        return x_conv_out\n",
    "\n",
    "    ### END YOUR CODE\n"
   ]
  },
  {
   "cell_type": "code",
   "execution_count": 21,
   "metadata": {},
   "outputs": [],
   "source": [
    "a_cnn = CNN(e_char = 50,\n",
    "        m_word = 12,\n",
    "        k = 5,\n",
    "        padding = 1,\n",
    "        f = 50)"
   ]
  },
  {
   "cell_type": "code",
   "execution_count": 22,
   "metadata": {},
   "outputs": [
    {
     "output_type": "execute_result",
     "data": {
      "text/plain": "torch.Size([20, 5, 50])"
     },
     "metadata": {},
     "execution_count": 22
    }
   ],
   "source": [
    "SENTENCE_LENGTH = 20\n",
    "BATCH_SIZE = 5\n",
    "E_CHAR = 50\n",
    "M_WORD = 12\n",
    "x = torch.randn(BATCH_SIZE, SENTENCE_LENGTH, M_WORD, E_CHAR)\n",
    "x_conv = a_cnn.conv1d(x.view(SENTENCE_LENGTH*BATCH_SIZE, E_CHAR, M_WORD))#(100, 50, 10) = (SENTENCE_LENGTH*BATCH_SIZE, f, (M_word-k+1))\n",
    "x_conv_out = a_cnn.maxpool(F.relu(x_conv)).squeeze(-1)\n",
    "x_conv_out = x_conv_out.view(SENTENCE_LENGTH,BATCH_SIZE,-1)\n",
    "x_conv_out.size()"
   ]
  },
  {
   "cell_type": "code",
   "execution_count": null,
   "metadata": {},
   "outputs": [],
   "source": []
  },
  {
   "cell_type": "code",
   "execution_count": null,
   "metadata": {},
   "outputs": [],
   "source": []
  },
  {
   "cell_type": "code",
   "execution_count": 24,
   "metadata": {},
   "outputs": [],
   "source": [
    "from vocab import VocabEntry"
   ]
  },
  {
   "cell_type": "code",
   "execution_count": 25,
   "metadata": {},
   "outputs": [],
   "source": [
    "vocab1 = VocabEntry()"
   ]
  },
  {
   "cell_type": "code",
   "execution_count": 28,
   "metadata": {},
   "outputs": [
    {
     "output_type": "execute_result",
     "data": {
      "text/plain": "96"
     },
     "metadata": {},
     "execution_count": 28
    }
   ],
   "source": [
    "len(vocab1.id2char)"
   ]
  },
  {
   "cell_type": "code",
   "execution_count": 29,
   "metadata": {},
   "outputs": [],
   "source": [
    "sentence_length, batch_size, max_word_length = 20, 5, 10\n",
    "x_padded = torch.randint(0, 96, (sentence_length, batch_size, max_word_length))"
   ]
  },
  {
   "cell_type": "code",
   "execution_count": 31,
   "metadata": {},
   "outputs": [
    {
     "output_type": "execute_result",
     "data": {
      "text/plain": "torch.Size([20, 5, 10])"
     },
     "metadata": {},
     "execution_count": 31
    }
   ],
   "source": [
    "x_padded.size()"
   ]
  },
  {
   "cell_type": "code",
   "execution_count": null,
   "metadata": {},
   "outputs": [],
   "source": [
    "# firstly findout the "
   ]
  },
  {
   "cell_type": "code",
   "execution_count": 32,
   "metadata": {},
   "outputs": [
    {
     "output_type": "execute_result",
     "data": {
      "text/plain": "96"
     },
     "metadata": {},
     "execution_count": 32
    }
   ],
   "source": [
    "len(vocab1.char2id)"
   ]
  },
  {
   "cell_type": "code",
   "execution_count": null,
   "metadata": {},
   "outputs": [],
   "source": []
  }
 ]
}