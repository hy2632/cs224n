{
 "cells": [
  {
   "cell_type": "code",
   "execution_count": 1,
   "metadata": {},
   "outputs": [],
   "source": [
    "#!/usr/bin/env python\n",
    "\n",
    "%load_ext autoreload\n",
    "%autoreload 2\n",
    "\n",
    "\n",
    "# Save parameters every a few SGD iterations as fail-safe\n",
    "SAVE_PARAMS_EVERY = 5000\n",
    "\n",
    "import pickle\n",
    "import glob\n",
    "import random\n",
    "import numpy as np\n",
    "import os.path as op\n",
    "\n",
    "from sgd import *"
   ]
  },
  {
   "cell_type": "code",
   "execution_count": 51,
   "metadata": {},
   "outputs": [
    {
     "output_type": "execute_result",
     "data": {
      "text/plain": "['.\\\\run.py', '.\\\\sgd.py', '.\\\\word2vec.py']"
     },
     "metadata": {},
     "execution_count": 51
    }
   ],
   "source": [
    "glob.glob('.\\*.py')"
   ]
  },
  {
   "cell_type": "code",
   "execution_count": null,
   "metadata": {},
   "outputs": [],
   "source": []
  },
  {
   "cell_type": "code",
   "execution_count": 52,
   "metadata": {
    "tags": []
   },
   "outputs": [
    {
     "output_type": "stream",
     "name": "stdout",
     "text": "Running sanity checks...\niter 100: 0.004578\niter 200: 0.004353\niter 300: 0.004136\niter 400: 0.003929\niter 500: 0.003733\niter 600: 0.003546\niter 700: 0.003369\niter 800: 0.003200\niter 900: 0.003040\niter 1000: 0.002888\ntest 1 result: 8.414836786079764e-10\niter 100: 0.000000\niter 200: 0.000000\niter 300: 0.000000\niter 400: 0.000000\niter 500: 0.000000\niter 600: 0.000000\niter 700: 0.000000\niter 800: 0.000000\niter 900: 0.000000\niter 1000: 0.000000\ntest 2 result: 0.0\niter 100: 0.041205\niter 200: 0.039181\niter 300: 0.037222\niter 400: 0.035361\niter 500: 0.033593\niter 600: 0.031913\niter 700: 0.030318\niter 800: 0.028802\niter 900: 0.027362\niter 1000: 0.025994\ntest 3 result: -2.524451035823933e-09\n----------------------------------------\nALL TESTS PASSED\n----------------------------------------\n"
    }
   ],
   "source": [
    "\n",
    "def sanity_check():\n",
    "    quad = lambda x: (np.sum(x ** 2), x * 2)\n",
    "\n",
    "    print(\"Running sanity checks...\")\n",
    "    t1 = sgd(quad, 0.5, 0.01, 1000, PRINT_EVERY=100)\n",
    "    print(\"test 1 result:\", t1)\n",
    "    assert abs(t1) <= 1e-6\n",
    "\n",
    "    t2 = sgd(quad, 0.0, 0.01, 1000, PRINT_EVERY=100)\n",
    "    print(\"test 2 result:\", t2)\n",
    "    assert abs(t2) <= 1e-6\n",
    "\n",
    "    t3 = sgd(quad, -1.5, 0.01, 1000, PRINT_EVERY=100)\n",
    "    print(\"test 3 result:\", t3)\n",
    "    assert abs(t3) <= 1e-6\n",
    "\n",
    "    print(\"-\" * 40)\n",
    "    print(\"ALL TESTS PASSED\")\n",
    "    print(\"-\" * 40)\n",
    "\n",
    "\n",
    "if __name__ == \"__main__\":\n",
    "    sanity_check()\n"
   ]
  }
 ],
 "metadata": {
  "language_info": {
   "codemirror_mode": {
    "name": "ipython",
    "version": 3
   },
   "file_extension": ".py",
   "mimetype": "text/x-python",
   "name": "python",
   "nbconvert_exporter": "python",
   "pygments_lexer": "ipython3",
   "version": "3.8.3-final"
  },
  "orig_nbformat": 2,
  "kernelspec": {
   "name": "python38364bit35f23bba917b4efcaf34ed74afd6745e",
   "display_name": "Python 3.8.3 64-bit"
  }
 },
 "nbformat": 4,
 "nbformat_minor": 2
}