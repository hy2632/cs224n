{
 "cells": [
  {
   "cell_type": "code",
   "execution_count": 1,
   "metadata": {},
   "outputs": [],
   "source": [
    "import numpy as np\n",
    "import torch"
   ]
  },
  {
   "cell_type": "code",
   "execution_count": 4,
   "metadata": {},
   "outputs": [],
   "source": [
    "a = [[1,2,3],[2,3,3],[2,2,3,2,2]]"
   ]
  },
  {
   "cell_type": "code",
   "execution_count": 6,
   "metadata": {},
   "outputs": [],
   "source": [
    "lena =[len(i) for i in a]"
   ]
  },
  {
   "cell_type": "code",
   "execution_count": 12,
   "metadata": {},
   "outputs": [
    {
     "output_type": "execute_result",
     "data": {
      "text/plain": "5"
     },
     "metadata": {},
     "execution_count": 12
    }
   ],
   "source": [
    "np.array(lena).max()"
   ]
  },
  {
   "cell_type": "code",
   "execution_count": 1,
   "metadata": {},
   "outputs": [],
   "source": [
    "from typing import List, Tuple, Dict, Set, Union\n"
   ]
  },
  {
   "cell_type": "code",
   "execution_count": 7,
   "metadata": {},
   "outputs": [
    {
     "output_type": "execute_result",
     "data": {
      "text/plain": "typing.List[float]"
     },
     "metadata": {},
     "execution_count": 7
    }
   ],
   "source": [
    "List[float]"
   ]
  },
  {
   "cell_type": "code",
   "execution_count": 2,
   "metadata": {},
   "outputs": [],
   "source": [
    "from torch.nn.utils.rnn import pack_padded_sequence, pad_packed_sequence"
   ]
  },
  {
   "cell_type": "code",
   "execution_count": 59,
   "metadata": {},
   "outputs": [
    {
     "output_type": "execute_result",
     "data": {
      "text/plain": "(tensor([3, 2, 1]), tensor([0, 2, 1]))"
     },
     "metadata": {},
     "execution_count": 59
    }
   ],
   "source": [
    "a = torch.tensor([[1,2,3],[6,0,0],[4,5,0]])\n",
    "lengths = torch.tensor([3,1,2])\n",
    "a_lengths, idx = lengths.sort(0, descending=True)\n",
    "a_lengths, idx"
   ]
  },
  {
   "cell_type": "code",
   "execution_count": 60,
   "metadata": {},
   "outputs": [],
   "source": [
    "_, un_idx = torch.sort(idx, dim=0)"
   ]
  },
  {
   "cell_type": "code",
   "execution_count": 61,
   "metadata": {},
   "outputs": [],
   "source": [
    "a = a[idx]"
   ]
  },
  {
   "cell_type": "code",
   "execution_count": 62,
   "metadata": {},
   "outputs": [
    {
     "output_type": "execute_result",
     "data": {
      "text/plain": "tensor([[1, 2, 3],\n        [4, 5, 0],\n        [6, 0, 0]])"
     },
     "metadata": {},
     "execution_count": 62
    }
   ],
   "source": [
    "a"
   ]
  },
  {
   "cell_type": "code",
   "execution_count": 63,
   "metadata": {},
   "outputs": [
    {
     "output_type": "execute_result",
     "data": {
      "text/plain": "tensor([[[ 0.7398, -1.0859],\n         [-0.2759, -1.4265],\n         [ 1.3796,  0.1265]],\n\n        [[ 0.9097,  2.3558],\n         [-0.0099, -0.1437],\n         [ 0.0000,  0.0000]],\n\n        [[ 0.0878, -1.7338],\n         [ 0.0000,  0.0000],\n         [ 0.0000,  0.0000]]], grad_fn=<EmbeddingBackward>)"
     },
     "metadata": {},
     "execution_count": 63
    }
   ],
   "source": [
    "emb = torch.nn.Embedding(20,2,padding_idx=0)\n",
    "lstm = torch.nn.LSTM(input_size=2, hidden_size=4, batch_first=True)\n",
    "a_input = emb(a)\n",
    "a_input "
   ]
  },
  {
   "cell_type": "code",
   "execution_count": 64,
   "metadata": {},
   "outputs": [
    {
     "output_type": "execute_result",
     "data": {
      "text/plain": "torch.Size([3, 3, 2])"
     },
     "metadata": {},
     "execution_count": 64
    }
   ],
   "source": [
    "a_input.size()"
   ]
  },
  {
   "cell_type": "code",
   "execution_count": 65,
   "metadata": {},
   "outputs": [
    {
     "output_type": "execute_result",
     "data": {
      "text/plain": "PackedSequence(data=tensor([[ 0.7398, -1.0859],\n        [ 0.9097,  2.3558],\n        [ 0.0878, -1.7338],\n        [-0.2759, -1.4265],\n        [-0.0099, -0.1437],\n        [ 1.3796,  0.1265]], grad_fn=<PackPaddedSequenceBackward>), batch_sizes=tensor([3, 2, 1]), sorted_indices=None, unsorted_indices=None)"
     },
     "metadata": {},
     "execution_count": 65
    }
   ],
   "source": [
    "a_packed_input = torch.nn.utils.rnn.pack_padded_sequence(input=a_input, lengths=a_lengths, batch_first=True)\n",
    "a_packed_input"
   ]
  },
  {
   "cell_type": "code",
   "execution_count": 69,
   "metadata": {},
   "outputs": [],
   "source": [
    "packed_out, _ = lstm(a_packed_input)"
   ]
  },
  {
   "cell_type": "code",
   "execution_count": 70,
   "metadata": {},
   "outputs": [
    {
     "output_type": "execute_result",
     "data": {
      "text/plain": "PackedSequence(data=tensor([[ 0.0167, -0.2776,  0.0121,  0.1060],\n        [-0.1926,  0.2293, -0.0926,  0.0672],\n        [ 0.0415, -0.3253,  0.1437,  0.0816],\n        [ 0.0323, -0.3343,  0.1842,  0.1160],\n        [-0.1780,  0.2270, -0.0752,  0.0885],\n        [-0.0464, -0.1784, -0.0190,  0.2658]], grad_fn=<CatBackward>), batch_sizes=tensor([3, 2, 1]), sorted_indices=None, unsorted_indices=None)"
     },
     "metadata": {},
     "execution_count": 70
    }
   ],
   "source": [
    "packed_out"
   ]
  },
  {
   "cell_type": "code",
   "execution_count": 71,
   "metadata": {},
   "outputs": [
    {
     "output_type": "execute_result",
     "data": {
      "text/plain": "tensor([[[ 0.0167, -0.2776,  0.0121,  0.1060],\n         [-0.1926,  0.2293, -0.0926,  0.0672],\n         [ 0.0415, -0.3253,  0.1437,  0.0816]],\n\n        [[ 0.0323, -0.3343,  0.1842,  0.1160],\n         [-0.1780,  0.2270, -0.0752,  0.0885],\n         [ 0.0000,  0.0000,  0.0000,  0.0000]],\n\n        [[-0.0464, -0.1784, -0.0190,  0.2658],\n         [ 0.0000,  0.0000,  0.0000,  0.0000],\n         [ 0.0000,  0.0000,  0.0000,  0.0000]]], grad_fn=<CopySlices>)"
     },
     "metadata": {},
     "execution_count": 71
    }
   ],
   "source": [
    "out, _ = pad_packed_sequence(packed_out)\n",
    "out"
   ]
  },
  {
   "cell_type": "code",
   "execution_count": 72,
   "metadata": {},
   "outputs": [],
   "source": [
    "out = torch.index_select(out, 0, un_idx)"
   ]
  },
  {
   "cell_type": "code",
   "execution_count": 73,
   "metadata": {},
   "outputs": [
    {
     "output_type": "execute_result",
     "data": {
      "text/plain": "tensor([[[ 0.0167, -0.2776,  0.0121,  0.1060],\n         [-0.1926,  0.2293, -0.0926,  0.0672],\n         [ 0.0415, -0.3253,  0.1437,  0.0816]],\n\n        [[-0.0464, -0.1784, -0.0190,  0.2658],\n         [ 0.0000,  0.0000,  0.0000,  0.0000],\n         [ 0.0000,  0.0000,  0.0000,  0.0000]],\n\n        [[ 0.0323, -0.3343,  0.1842,  0.1160],\n         [-0.1780,  0.2270, -0.0752,  0.0885],\n         [ 0.0000,  0.0000,  0.0000,  0.0000]]], grad_fn=<IndexSelectBackward>)"
     },
     "metadata": {},
     "execution_count": 73
    }
   ],
   "source": [
    "out"
   ]
  },
  {
   "cell_type": "code",
   "execution_count": 85,
   "metadata": {},
   "outputs": [
    {
     "output_type": "execute_result",
     "data": {
      "text/plain": "(tensor([1, 3]), tensor([4, 5]), tensor([6, 7]))"
     },
     "metadata": {},
     "execution_count": 85
    }
   ],
   "source": [
    "# torch.split\n",
    "torch.split(torch.tensor([1,3,4,5,6,7]),2,0)"
   ]
  },
  {
   "cell_type": "code",
   "execution_count": 104,
   "metadata": {},
   "outputs": [
    {
     "output_type": "execute_result",
     "data": {
      "text/plain": "torch.Size([2, 2, 1])"
     },
     "metadata": {},
     "execution_count": 104
    }
   ],
   "source": [
    "a = torch.tensor([\n",
    "    [[1],[1]],\n",
    "    [[2],[2]]\n",
    "])\n",
    "a.shape"
   ]
  },
  {
   "cell_type": "code",
   "execution_count": 110,
   "metadata": {},
   "outputs": [],
   "source": [
    "b = a.squeeze()"
   ]
  },
  {
   "cell_type": "code",
   "execution_count": 120,
   "metadata": {},
   "outputs": [
    {
     "output_type": "execute_result",
     "data": {
      "text/plain": "torch.Size([2, 2])"
     },
     "metadata": {},
     "execution_count": 120
    }
   ],
   "source": [
    "b.size()"
   ]
  },
  {
   "cell_type": "code",
   "execution_count": 121,
   "metadata": {},
   "outputs": [
    {
     "output_type": "execute_result",
     "data": {
      "text/plain": "torch.Size([3, 2, 2])"
     },
     "metadata": {},
     "execution_count": 121
    }
   ],
   "source": [
    "torch.stack([b]*3, dim=0).size()"
   ]
  },
  {
   "cell_type": "code",
   "execution_count": null,
   "metadata": {},
   "outputs": [],
   "source": []
  },
  {
   "cell_type": "code",
   "execution_count": 9,
   "metadata": {},
   "outputs": [],
   "source": [
    "b = 3\n",
    "h = 2\n",
    "dec_hidden =torch.randn((b,h))\n",
    "src_len = 10\n",
    "enc_hiddens_proj = torch.randn((b, src_len, h))"
   ]
  },
  {
   "cell_type": "code",
   "execution_count": 11,
   "metadata": {},
   "outputs": [
    {
     "output_type": "execute_result",
     "data": {
      "text/plain": "(torch.Size([3, 10, 2]), torch.Size([3, 2]))"
     },
     "metadata": {},
     "execution_count": 11
    }
   ],
   "source": [
    "enc_hiddens_proj.shape, dec_hidden.shape"
   ]
  },
  {
   "cell_type": "code",
   "execution_count": 7,
   "metadata": {},
   "outputs": [
    {
     "output_type": "execute_result",
     "data": {
      "text/plain": "(3, 10)"
     },
     "metadata": {},
     "execution_count": 7
    }
   ],
   "source": [
    "b, src_len"
   ]
  },
  {
   "cell_type": "code",
   "execution_count": 52,
   "metadata": {},
   "outputs": [
    {
     "output_type": "execute_result",
     "data": {
      "text/plain": "torch.Size([3, 10])"
     },
     "metadata": {},
     "execution_count": 52
    }
   ],
   "source": [
    "e_t = torch.bmm(dec_hidden.unsqueeze(dim=1), enc_hiddens_proj.view((b,h,src_len))).squeeze(dim=1)\n",
    "e_t.size()"
   ]
  },
  {
   "cell_type": "code",
   "execution_count": 85,
   "metadata": {},
   "outputs": [],
   "source": [
    "e_t = torch.bmm(enc_hiddens_proj, torch.unsqueeze(dec_hidden, dim=2)).squeeze(dim=2)"
   ]
  },
  {
   "cell_type": "code",
   "execution_count": null,
   "metadata": {},
   "outputs": [],
   "source": []
  },
  {
   "cell_type": "code",
   "execution_count": 41,
   "metadata": {},
   "outputs": [],
   "source": [
    "import torch.nn as nn"
   ]
  },
  {
   "cell_type": "code",
   "execution_count": 56,
   "metadata": {},
   "outputs": [
    {
     "output_type": "execute_result",
     "data": {
      "text/plain": "tensor([[ 1.1798,  0.8611,  0.0239,  1.0419, -0.6018,  0.5490,  0.6876, -2.5911,\n         -1.8291,  0.4773],\n        [ 0.9290,  0.1539,  0.1091,  0.4284, -0.8257,  0.7490, -0.5277, -0.9639,\n          0.0489, -1.2919],\n        [ 0.9871,  0.9330, -1.1366, -0.4063, -0.8744, -0.1539,  1.3039,  0.7724,\n         -0.5108, -2.4253]])"
     },
     "metadata": {},
     "execution_count": 56
    }
   ],
   "source": [
    "e_t"
   ]
  },
  {
   "cell_type": "code",
   "execution_count": 55,
   "metadata": {},
   "outputs": [
    {
     "output_type": "execute_result",
     "data": {
      "text/plain": "tensor([[0.2087, 0.1517, 0.0657, 0.1818, 0.0351, 0.1110, 0.1275, 0.0048, 0.0103,\n         0.1034],\n        [0.2261, 0.1042, 0.0996, 0.1371, 0.0391, 0.1889, 0.0527, 0.0341, 0.0938,\n         0.0245],\n        [0.1913, 0.1813, 0.0229, 0.0475, 0.0297, 0.0611, 0.2627, 0.1544, 0.0428,\n         0.0063]])"
     },
     "metadata": {},
     "execution_count": 55
    }
   ],
   "source": [
    "m = nn.Softmax(dim =1)\n",
    "m(e_t)"
   ]
  },
  {
   "cell_type": "code",
   "execution_count": 58,
   "metadata": {},
   "outputs": [
    {
     "output_type": "execute_result",
     "data": {
      "text/plain": "tensor([[0.2087, 0.1517, 0.0657, 0.1818, 0.0351, 0.1110, 0.1275, 0.0048, 0.0103,\n         0.1034],\n        [0.2261, 0.1042, 0.0996, 0.1371, 0.0391, 0.1889, 0.0527, 0.0341, 0.0938,\n         0.0245],\n        [0.1913, 0.1813, 0.0229, 0.0475, 0.0297, 0.0611, 0.2627, 0.1544, 0.0428,\n         0.0063]])"
     },
     "metadata": {},
     "execution_count": 58
    }
   ],
   "source": [
    "nn.Softmax(dim =1)(e_t)"
   ]
  },
  {
   "cell_type": "code",
   "execution_count": 59,
   "metadata": {},
   "outputs": [],
   "source": [
    "alpha_t = nn.Softmax(dim=1)(e_t)"
   ]
  },
  {
   "cell_type": "code",
   "execution_count": 60,
   "metadata": {},
   "outputs": [],
   "source": [
    "enc_hiddens = torch.randn((b, src_len, 2*h))"
   ]
  },
  {
   "cell_type": "code",
   "execution_count": 61,
   "metadata": {},
   "outputs": [
    {
     "output_type": "execute_result",
     "data": {
      "text/plain": "(3, 10)"
     },
     "metadata": {},
     "execution_count": 61
    }
   ],
   "source": [
    "b, src_len"
   ]
  },
  {
   "cell_type": "code",
   "execution_count": 83,
   "metadata": {},
   "outputs": [
    {
     "output_type": "execute_result",
     "data": {
      "text/plain": "(torch.Size([3, 10]), torch.Size([3, 10, 4]))"
     },
     "metadata": {},
     "execution_count": 83
    }
   ],
   "source": [
    "alpha_t.shape, enc_hiddens.shape\n",
    "# b, src_len; b, src_len, 2*h"
   ]
  },
  {
   "cell_type": "code",
   "execution_count": 84,
   "metadata": {},
   "outputs": [
    {
     "output_type": "execute_result",
     "data": {
      "text/plain": "tensor([[ 0.0726, -0.0844,  0.3633, -0.2227],\n        [ 0.3573, -0.1077, -0.0614, -0.2954],\n        [-0.1972,  0.1448, -0.6961,  0.1868]])"
     },
     "metadata": {},
     "execution_count": 84
    }
   ],
   "source": [
    "torch.squeeze(torch.bmm(torch.unsqueeze(alpha_t, 1), enc_hiddens),1)"
   ]
  }
 ],
 "metadata": {
  "language_info": {
   "codemirror_mode": {
    "name": "ipython",
    "version": 3
   },
   "file_extension": ".py",
   "mimetype": "text/x-python",
   "name": "python",
   "nbconvert_exporter": "python",
   "pygments_lexer": "ipython3",
   "version": "3.7.7-final"
  },
  "orig_nbformat": 2,
  "kernelspec": {
   "name": "python_defaultSpec_1594820131699",
   "display_name": "Python 3.7.7 64-bit ('local_nmt': conda)"
  }
 },
 "nbformat": 4,
 "nbformat_minor": 2
}