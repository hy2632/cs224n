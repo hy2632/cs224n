{
 "cells": [
  {
   "cell_type": "code",
   "execution_count": 1,
   "metadata": {},
   "outputs": [],
   "source": [
    "import numpy as np\n",
    "import torch"
   ]
  },
  {
   "cell_type": "code",
   "execution_count": 3,
   "metadata": {},
   "outputs": [
    {
     "output_type": "execute_result",
     "data": {
      "text/plain": "tensor([-0.1406, -0.8039, -1.1212])"
     },
     "metadata": {},
     "execution_count": 3
    }
   ],
   "source": [
    "torch.randn(3)"
   ]
  },
  {
   "cell_type": "code",
   "execution_count": 2,
   "metadata": {},
   "outputs": [],
   "source": [
    "a = [[1,2,3],[2,3,3],[2,2,3,2,2]]"
   ]
  },
  {
   "cell_type": "code",
   "execution_count": 4,
   "metadata": {},
   "outputs": [],
   "source": [
    "lena =[len(i) for i in a]"
   ]
  },
  {
   "cell_type": "code",
   "execution_count": 5,
   "metadata": {},
   "outputs": [
    {
     "data": {
      "text/plain": [
       "5"
      ]
     },
     "execution_count": 5,
     "metadata": {},
     "output_type": "execute_result"
    }
   ],
   "source": [
    "np.array(lena).max()"
   ]
  },
  {
   "cell_type": "code",
   "execution_count": 6,
   "metadata": {},
   "outputs": [],
   "source": [
    "from typing import List, Tuple, Dict, Set, Union\n"
   ]
  },
  {
   "cell_type": "code",
   "execution_count": 7,
   "metadata": {},
   "outputs": [
    {
     "data": {
      "text/plain": [
       "typing.List[float]"
      ]
     },
     "execution_count": 7,
     "metadata": {},
     "output_type": "execute_result"
    }
   ],
   "source": [
    "List[float]"
   ]
  },
  {
   "cell_type": "code",
   "execution_count": 8,
   "metadata": {},
   "outputs": [],
   "source": [
    "from torch.nn.utils.rnn import pack_padded_sequence, pad_packed_sequence"
   ]
  },
  {
   "cell_type": "code",
   "execution_count": 9,
   "metadata": {},
   "outputs": [
    {
     "data": {
      "text/plain": [
       "(tensor([3, 2, 1]), tensor([0, 2, 1]))"
      ]
     },
     "execution_count": 9,
     "metadata": {},
     "output_type": "execute_result"
    }
   ],
   "source": [
    "a = torch.tensor([[1,2,3],[6,0,0],[4,5,0]])\n",
    "lengths = torch.tensor([3,1,2])\n",
    "a_lengths, idx = lengths.sort(0, descending=True)\n",
    "a_lengths, idx"
   ]
  },
  {
   "cell_type": "code",
   "execution_count": 10,
   "metadata": {},
   "outputs": [],
   "source": [
    "_, un_idx = torch.sort(idx, dim=0)"
   ]
  },
  {
   "cell_type": "code",
   "execution_count": 11,
   "metadata": {},
   "outputs": [],
   "source": [
    "a = a[idx]"
   ]
  },
  {
   "cell_type": "code",
   "execution_count": 12,
   "metadata": {},
   "outputs": [
    {
     "data": {
      "text/plain": [
       "tensor([[1, 2, 3],\n",
       "        [4, 5, 0],\n",
       "        [6, 0, 0]])"
      ]
     },
     "execution_count": 12,
     "metadata": {},
     "output_type": "execute_result"
    }
   ],
   "source": [
    "a"
   ]
  },
  {
   "cell_type": "code",
   "execution_count": 13,
   "metadata": {},
   "outputs": [
    {
     "data": {
      "text/plain": [
       "tensor([[[ 0.0321, -0.3637],\n",
       "         [ 1.9273, -0.2071],\n",
       "         [-0.3575, -0.4427]],\n",
       "\n",
       "        [[-0.8007,  0.1199],\n",
       "         [ 0.3622, -0.9028],\n",
       "         [ 0.0000,  0.0000]],\n",
       "\n",
       "        [[-0.4836,  0.1002],\n",
       "         [ 0.0000,  0.0000],\n",
       "         [ 0.0000,  0.0000]]], grad_fn=<EmbeddingBackward>)"
      ]
     },
     "execution_count": 13,
     "metadata": {},
     "output_type": "execute_result"
    }
   ],
   "source": [
    "emb = torch.nn.Embedding(20,2,padding_idx=0)\n",
    "lstm = torch.nn.LSTM(input_size=2, hidden_size=4, batch_first=True)\n",
    "a_input = emb(a)\n",
    "a_input "
   ]
  },
  {
   "cell_type": "code",
   "execution_count": 14,
   "metadata": {},
   "outputs": [
    {
     "data": {
      "text/plain": [
       "torch.Size([3, 3, 2])"
      ]
     },
     "execution_count": 14,
     "metadata": {},
     "output_type": "execute_result"
    }
   ],
   "source": [
    "a_input.size()"
   ]
  },
  {
   "cell_type": "code",
   "execution_count": 15,
   "metadata": {},
   "outputs": [
    {
     "data": {
      "text/plain": [
       "PackedSequence(data=tensor([[ 0.0321, -0.3637],\n",
       "        [-0.8007,  0.1199],\n",
       "        [-0.4836,  0.1002],\n",
       "        [ 1.9273, -0.2071],\n",
       "        [ 0.3622, -0.9028],\n",
       "        [-0.3575, -0.4427]], grad_fn=<PackPaddedSequenceBackward>), batch_sizes=tensor([3, 2, 1]), sorted_indices=None, unsorted_indices=None)"
      ]
     },
     "execution_count": 15,
     "metadata": {},
     "output_type": "execute_result"
    }
   ],
   "source": [
    "a_packed_input = torch.nn.utils.rnn.pack_padded_sequence(input=a_input, lengths=a_lengths, batch_first=True)\n",
    "a_packed_input"
   ]
  },
  {
   "cell_type": "code",
   "execution_count": 16,
   "metadata": {},
   "outputs": [],
   "source": [
    "packed_out, _ = lstm(a_packed_input)"
   ]
  },
  {
   "cell_type": "code",
   "execution_count": 17,
   "metadata": {},
   "outputs": [
    {
     "data": {
      "text/plain": [
       "PackedSequence(data=tensor([[ 0.0828,  0.0029,  0.1247, -0.0333],\n",
       "        [ 0.0005,  0.0009,  0.0831, -0.1806],\n",
       "        [ 0.0218,  0.0035,  0.0886, -0.1388],\n",
       "        [ 0.1618,  0.0265,  0.1620,  0.0429],\n",
       "        [ 0.1161,  0.0014,  0.2299, -0.0211],\n",
       "        [ 0.1485,  0.0137,  0.2002, -0.0415]], grad_fn=<CatBackward>), batch_sizes=tensor([3, 2, 1]), sorted_indices=None, unsorted_indices=None)"
      ]
     },
     "execution_count": 17,
     "metadata": {},
     "output_type": "execute_result"
    }
   ],
   "source": [
    "packed_out"
   ]
  },
  {
   "cell_type": "code",
   "execution_count": 18,
   "metadata": {},
   "outputs": [
    {
     "data": {
      "text/plain": [
       "tensor([[[ 0.0828,  0.0029,  0.1247, -0.0333],\n",
       "         [ 0.0005,  0.0009,  0.0831, -0.1806],\n",
       "         [ 0.0218,  0.0035,  0.0886, -0.1388]],\n",
       "\n",
       "        [[ 0.1618,  0.0265,  0.1620,  0.0429],\n",
       "         [ 0.1161,  0.0014,  0.2299, -0.0211],\n",
       "         [ 0.0000,  0.0000,  0.0000,  0.0000]],\n",
       "\n",
       "        [[ 0.1485,  0.0137,  0.2002, -0.0415],\n",
       "         [ 0.0000,  0.0000,  0.0000,  0.0000],\n",
       "         [ 0.0000,  0.0000,  0.0000,  0.0000]]], grad_fn=<CopySlices>)"
      ]
     },
     "execution_count": 18,
     "metadata": {},
     "output_type": "execute_result"
    }
   ],
   "source": [
    "out, _ = pad_packed_sequence(packed_out)\n",
    "out"
   ]
  },
  {
   "cell_type": "code",
   "execution_count": 19,
   "metadata": {},
   "outputs": [],
   "source": [
    "out = torch.index_select(out, 0, un_idx)"
   ]
  },
  {
   "cell_type": "code",
   "execution_count": 20,
   "metadata": {},
   "outputs": [
    {
     "data": {
      "text/plain": [
       "tensor([[[ 0.0828,  0.0029,  0.1247, -0.0333],\n",
       "         [ 0.0005,  0.0009,  0.0831, -0.1806],\n",
       "         [ 0.0218,  0.0035,  0.0886, -0.1388]],\n",
       "\n",
       "        [[ 0.1485,  0.0137,  0.2002, -0.0415],\n",
       "         [ 0.0000,  0.0000,  0.0000,  0.0000],\n",
       "         [ 0.0000,  0.0000,  0.0000,  0.0000]],\n",
       "\n",
       "        [[ 0.1618,  0.0265,  0.1620,  0.0429],\n",
       "         [ 0.1161,  0.0014,  0.2299, -0.0211],\n",
       "         [ 0.0000,  0.0000,  0.0000,  0.0000]]], grad_fn=<IndexSelectBackward>)"
      ]
     },
     "execution_count": 20,
     "metadata": {},
     "output_type": "execute_result"
    }
   ],
   "source": [
    "out"
   ]
  },
  {
   "cell_type": "code",
   "execution_count": 21,
   "metadata": {},
   "outputs": [
    {
     "data": {
      "text/plain": [
       "(tensor([1, 3]), tensor([4, 5]), tensor([6, 7]))"
      ]
     },
     "execution_count": 21,
     "metadata": {},
     "output_type": "execute_result"
    }
   ],
   "source": [
    "# torch.split\n",
    "torch.split(torch.tensor([1,3,4,5,6,7]),2,0)"
   ]
  },
  {
   "cell_type": "code",
   "execution_count": 22,
   "metadata": {},
   "outputs": [
    {
     "data": {
      "text/plain": [
       "torch.Size([2, 2, 1])"
      ]
     },
     "execution_count": 22,
     "metadata": {},
     "output_type": "execute_result"
    }
   ],
   "source": [
    "a = torch.tensor([\n",
    "    [[1],[1]],\n",
    "    [[2],[2]]\n",
    "])\n",
    "a.shape"
   ]
  },
  {
   "cell_type": "code",
   "execution_count": 23,
   "metadata": {},
   "outputs": [],
   "source": [
    "b = a.squeeze()"
   ]
  },
  {
   "cell_type": "code",
   "execution_count": 24,
   "metadata": {},
   "outputs": [
    {
     "data": {
      "text/plain": [
       "torch.Size([2, 2])"
      ]
     },
     "execution_count": 24,
     "metadata": {},
     "output_type": "execute_result"
    }
   ],
   "source": [
    "b.size()"
   ]
  },
  {
   "cell_type": "code",
   "execution_count": 25,
   "metadata": {},
   "outputs": [
    {
     "data": {
      "text/plain": [
       "torch.Size([3, 2, 2])"
      ]
     },
     "execution_count": 25,
     "metadata": {},
     "output_type": "execute_result"
    }
   ],
   "source": [
    "torch.stack([b]*3, dim=0).size()"
   ]
  },
  {
   "cell_type": "code",
   "execution_count": null,
   "metadata": {},
   "outputs": [],
   "source": []
  },
  {
   "cell_type": "code",
   "execution_count": 26,
   "metadata": {},
   "outputs": [],
   "source": [
    "b = 3\n",
    "h = 2\n",
    "dec_hidden =torch.randn((b,h))\n",
    "src_len = 10\n",
    "enc_hiddens_proj = torch.randn((b, src_len, h))"
   ]
  },
  {
   "cell_type": "code",
   "execution_count": 27,
   "metadata": {},
   "outputs": [
    {
     "data": {
      "text/plain": [
       "(torch.Size([3, 10, 2]), torch.Size([3, 2]))"
      ]
     },
     "execution_count": 27,
     "metadata": {},
     "output_type": "execute_result"
    }
   ],
   "source": [
    "enc_hiddens_proj.shape, dec_hidden.shape"
   ]
  },
  {
   "cell_type": "code",
   "execution_count": 28,
   "metadata": {},
   "outputs": [
    {
     "data": {
      "text/plain": [
       "(3, 10)"
      ]
     },
     "execution_count": 28,
     "metadata": {},
     "output_type": "execute_result"
    }
   ],
   "source": [
    "b, src_len"
   ]
  },
  {
   "cell_type": "code",
   "execution_count": 29,
   "metadata": {},
   "outputs": [
    {
     "data": {
      "text/plain": [
       "torch.Size([3, 10])"
      ]
     },
     "execution_count": 29,
     "metadata": {},
     "output_type": "execute_result"
    }
   ],
   "source": [
    "e_t = torch.bmm(dec_hidden.unsqueeze(dim=1), enc_hiddens_proj.view((b,h,src_len))).squeeze(dim=1)\n",
    "e_t.size()"
   ]
  },
  {
   "cell_type": "code",
   "execution_count": 30,
   "metadata": {},
   "outputs": [],
   "source": [
    "e_t = torch.bmm(enc_hiddens_proj, torch.unsqueeze(dec_hidden, dim=2)).squeeze(dim=2)"
   ]
  },
  {
   "cell_type": "code",
   "execution_count": null,
   "metadata": {},
   "outputs": [],
   "source": []
  },
  {
   "cell_type": "code",
   "execution_count": 31,
   "metadata": {},
   "outputs": [],
   "source": [
    "import torch.nn as nn"
   ]
  },
  {
   "cell_type": "code",
   "execution_count": 32,
   "metadata": {},
   "outputs": [
    {
     "data": {
      "text/plain": [
       "tensor([[ 6.2804,  1.4334,  0.6463, -8.6435, -3.2104, -3.1381,  2.3730,  1.4660,\n",
       "          2.7911, -0.9780],\n",
       "        [-0.7725,  1.7268,  1.5670,  0.5945, -0.6253, -2.1163,  1.4096,  1.6465,\n",
       "          2.9342, -0.5334],\n",
       "        [-1.5720, -2.5578,  2.6107,  0.7483,  0.0825, -0.9389, -0.9421, -1.1035,\n",
       "          1.9941, -0.0621]])"
      ]
     },
     "execution_count": 32,
     "metadata": {},
     "output_type": "execute_result"
    }
   ],
   "source": [
    "e_t"
   ]
  },
  {
   "cell_type": "code",
   "execution_count": 33,
   "metadata": {},
   "outputs": [
    {
     "data": {
      "text/plain": [
       "tensor([[9.3370e-01, 7.3310e-03, 3.3368e-03, 3.0819e-07, 7.0535e-05, 7.5825e-05,\n",
       "         1.8760e-02, 7.5743e-03, 2.8498e-02, 6.5750e-04],\n",
       "        [1.0991e-02, 1.3380e-01, 1.1405e-01, 4.3127e-02, 1.2734e-02, 2.8671e-03,\n",
       "         9.7441e-02, 1.2348e-01, 4.4754e-01, 1.3961e-02],\n",
       "        [7.8373e-03, 2.9246e-03, 5.1371e-01, 7.9778e-02, 4.0995e-02, 1.4761e-02,\n",
       "         1.4715e-02, 1.2521e-02, 2.7728e-01, 3.5474e-02]])"
      ]
     },
     "execution_count": 33,
     "metadata": {},
     "output_type": "execute_result"
    }
   ],
   "source": [
    "m = nn.Softmax(dim =1)\n",
    "m(e_t)"
   ]
  },
  {
   "cell_type": "code",
   "execution_count": 34,
   "metadata": {},
   "outputs": [
    {
     "data": {
      "text/plain": [
       "tensor([[9.3370e-01, 7.3310e-03, 3.3368e-03, 3.0819e-07, 7.0535e-05, 7.5825e-05,\n",
       "         1.8760e-02, 7.5743e-03, 2.8498e-02, 6.5750e-04],\n",
       "        [1.0991e-02, 1.3380e-01, 1.1405e-01, 4.3127e-02, 1.2734e-02, 2.8671e-03,\n",
       "         9.7441e-02, 1.2348e-01, 4.4754e-01, 1.3961e-02],\n",
       "        [7.8373e-03, 2.9246e-03, 5.1371e-01, 7.9778e-02, 4.0995e-02, 1.4761e-02,\n",
       "         1.4715e-02, 1.2521e-02, 2.7728e-01, 3.5474e-02]])"
      ]
     },
     "execution_count": 34,
     "metadata": {},
     "output_type": "execute_result"
    }
   ],
   "source": [
    "nn.Softmax(dim =1)(e_t)"
   ]
  },
  {
   "cell_type": "code",
   "execution_count": 35,
   "metadata": {},
   "outputs": [],
   "source": [
    "alpha_t = nn.Softmax(dim=1)(e_t)"
   ]
  },
  {
   "cell_type": "code",
   "execution_count": 36,
   "metadata": {},
   "outputs": [],
   "source": [
    "enc_hiddens = torch.randn((b, src_len, 2*h))"
   ]
  },
  {
   "cell_type": "code",
   "execution_count": 37,
   "metadata": {},
   "outputs": [
    {
     "data": {
      "text/plain": [
       "(3, 10)"
      ]
     },
     "execution_count": 37,
     "metadata": {},
     "output_type": "execute_result"
    }
   ],
   "source": [
    "b, src_len"
   ]
  },
  {
   "cell_type": "code",
   "execution_count": 38,
   "metadata": {},
   "outputs": [
    {
     "data": {
      "text/plain": [
       "(torch.Size([3, 10]), torch.Size([3, 10, 4]))"
      ]
     },
     "execution_count": 38,
     "metadata": {},
     "output_type": "execute_result"
    }
   ],
   "source": [
    "alpha_t.shape, enc_hiddens.shape\n",
    "# b, src_len; b, src_len, 2*h"
   ]
  },
  {
   "cell_type": "code",
   "execution_count": 39,
   "metadata": {},
   "outputs": [
    {
     "data": {
      "text/plain": [
       "tensor([[ 1.3908, -0.4664, -0.5403, -0.9161],\n",
       "        [-0.1374,  0.6849, -0.5844, -0.0409],\n",
       "        [ 0.3221,  0.1419,  0.4798, -0.0855]])"
      ]
     },
     "execution_count": 39,
     "metadata": {},
     "output_type": "execute_result"
    }
   ],
   "source": [
    "torch.squeeze(torch.bmm(torch.unsqueeze(alpha_t, 1), enc_hiddens),1)"
   ]
  },
  {
   "cell_type": "code",
   "execution_count": null,
   "metadata": {},
   "outputs": [],
   "source": []
  },
  {
   "cell_type": "code",
   "execution_count": null,
   "metadata": {},
   "outputs": [],
   "source": []
  },
  {
   "cell_type": "code",
   "execution_count": null,
   "metadata": {},
   "outputs": [],
   "source": []
  }
 ],
 "metadata": {
  "kernelspec": {
   "display_name": "Python 3.6.9 64-bit ('azureml_py36_pytorch': conda)",
   "language": "python",
   "name": "python_defaultSpec_1594934741799"
  },
  "language_info": {
   "codemirror_mode": {
    "name": "ipython",
    "version": 3
   },
   "file_extension": ".py",
   "mimetype": "text/x-python",
   "name": "python",
   "nbconvert_exporter": "python",
   "pygments_lexer": "ipython3",
   "version": "3.6.9"
  }
 },
 "nbformat": 4,
 "nbformat_minor": 4
}