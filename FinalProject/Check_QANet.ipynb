{
 "metadata": {
  "language_info": {
   "codemirror_mode": {
    "name": "ipython",
    "version": 3
   },
   "file_extension": ".py",
   "mimetype": "text/x-python",
   "name": "python",
   "nbconvert_exporter": "python",
   "pygments_lexer": "ipython3",
   "version": 3
  },
  "orig_nbformat": 2,
  "kernelspec": {
   "name": "python_defaultSpec_1597324433573",
   "display_name": "Python 3.6.11 64-bit"
  }
 },
 "nbformat": 4,
 "nbformat_minor": 2,
 "cells": [
  {
   "cell_type": "code",
   "execution_count": 1,
   "metadata": {},
   "outputs": [],
   "source": [
    "\n",
    "import numpy as np\n",
    "import random\n",
    "import torch\n",
    "import torch.nn as nn\n",
    "import torch.nn.functional as F\n",
    "import torch.optim as optim\n",
    "import torch.optim.lr_scheduler as sched\n",
    "import torch.utils.data as data\n",
    "import util\n",
    "\n",
    "from args_QANet import get_train_args\n",
    "\n",
    "from collections import OrderedDict\n",
    "from json import dumps\n",
    "\n",
    "from models_QANet import QANet\n",
    "\n",
    "from tensorboardX import SummaryWriter\n",
    "from tqdm import tqdm\n",
    "from ujson import load as json_load\n",
    "from util import collate_fn, SQuAD"
   ]
  },
  {
   "cell_type": "code",
   "execution_count": 2,
   "metadata": {},
   "outputs": [],
   "source": [
    "char_vectors = util.torch_from_json(\"data/char_emb.json\")\n",
    "word_vectors = util.torch_from_json(\"data/word_emb.json\")\n",
    "char_vocab_size, _ = tuple(char_vectors.size())\n",
    "\n",
    "model = QANet(\n",
    "    word_vectors,\n",
    "    char_vocab_size=char_vocab_size,\n",
    "    char_dim=200,\n",
    "    d_model=128,\n",
    "    drop_prob=0.,\n",
    "    num_mod_blocks=7,\n",
    "    maximum_context_length=400\n",
    ")"
   ]
  },
  {
   "cell_type": "code",
   "execution_count": 9,
   "metadata": {
    "tags": []
   },
   "outputs": [
    {
     "output_type": "stream",
     "name": "stdout",
     "text": "-->name: word_emb.embed.weight -->grad_requirs: False\n-->name: char_emb.char_emb.weight -->grad_requirs: True\n-->name: hwy.transforms.0.weight -->grad_requirs: True\n-->name: hwy.transforms.0.bias -->grad_requirs: True\n-->name: hwy.transforms.1.weight -->grad_requirs: True\n-->name: hwy.transforms.1.bias -->grad_requirs: True\n-->name: hwy.gates.0.weight -->grad_requirs: True\n-->name: hwy.gates.0.bias -->grad_requirs: True\n-->name: hwy.gates.1.weight -->grad_requirs: True\n-->name: hwy.gates.1.bias -->grad_requirs: True\n-->name: emb_enc_block.cnn_init.weight -->grad_requirs: True\n-->name: emb_enc_block.cnn_init.bias -->grad_requirs: True\n-->name: emb_enc_block.cnn.dsconv.weight -->grad_requirs: True\n-->name: emb_enc_block.cnn.dsconv.bias -->grad_requirs: True\n-->name: emb_enc_block.att.fc_query.0.weight -->grad_requirs: True\n-->name: emb_enc_block.att.fc_query.0.bias -->grad_requirs: True\n-->name: emb_enc_block.att.fc_query.1.weight -->grad_requirs: True\n-->name: emb_enc_block.att.fc_query.1.bias -->grad_requirs: True\n-->name: emb_enc_block.att.fc_query.2.weight -->grad_requirs: True\n-->name: emb_enc_block.att.fc_query.2.bias -->grad_requirs: True\n-->name: emb_enc_block.att.fc_query.3.weight -->grad_requirs: True\n-->name: emb_enc_block.att.fc_query.3.bias -->grad_requirs: True\n-->name: emb_enc_block.att.fc_query.4.weight -->grad_requirs: True\n-->name: emb_enc_block.att.fc_query.4.bias -->grad_requirs: True\n-->name: emb_enc_block.att.fc_query.5.weight -->grad_requirs: True\n-->name: emb_enc_block.att.fc_query.5.bias -->grad_requirs: True\n-->name: emb_enc_block.att.fc_query.6.weight -->grad_requirs: True\n-->name: emb_enc_block.att.fc_query.6.bias -->grad_requirs: True\n-->name: emb_enc_block.att.fc_query.7.weight -->grad_requirs: True\n-->name: emb_enc_block.att.fc_query.7.bias -->grad_requirs: True\n-->name: emb_enc_block.att.fc_key.0.weight -->grad_requirs: True\n-->name: emb_enc_block.att.fc_key.0.bias -->grad_requirs: True\n-->name: emb_enc_block.att.fc_key.1.weight -->grad_requirs: True\n-->name: emb_enc_block.att.fc_key.1.bias -->grad_requirs: True\n-->name: emb_enc_block.att.fc_key.2.weight -->grad_requirs: True\n-->name: emb_enc_block.att.fc_key.2.bias -->grad_requirs: True\n-->name: emb_enc_block.att.fc_key.3.weight -->grad_requirs: True\n-->name: emb_enc_block.att.fc_key.3.bias -->grad_requirs: True\n-->name: emb_enc_block.att.fc_key.4.weight -->grad_requirs: True\n-->name: emb_enc_block.att.fc_key.4.bias -->grad_requirs: True\n-->name: emb_enc_block.att.fc_key.5.weight -->grad_requirs: True\n-->name: emb_enc_block.att.fc_key.5.bias -->grad_requirs: True\n-->name: emb_enc_block.att.fc_key.6.weight -->grad_requirs: True\n-->name: emb_enc_block.att.fc_key.6.bias -->grad_requirs: True\n-->name: emb_enc_block.att.fc_key.7.weight -->grad_requirs: True\n-->name: emb_enc_block.att.fc_key.7.bias -->grad_requirs: True\n-->name: emb_enc_block.att.fc_value.0.weight -->grad_requirs: True\n-->name: emb_enc_block.att.fc_value.0.bias -->grad_requirs: True\n-->name: emb_enc_block.att.fc_value.1.weight -->grad_requirs: True\n-->name: emb_enc_block.att.fc_value.1.bias -->grad_requirs: True\n-->name: emb_enc_block.att.fc_value.2.weight -->grad_requirs: True\n-->name: emb_enc_block.att.fc_value.2.bias -->grad_requirs: True\n-->name: emb_enc_block.att.fc_value.3.weight -->grad_requirs: True\n-->name: emb_enc_block.att.fc_value.3.bias -->grad_requirs: True\n-->name: emb_enc_block.att.fc_value.4.weight -->grad_requirs: True\n-->name: emb_enc_block.att.fc_value.4.bias -->grad_requirs: True\n-->name: emb_enc_block.att.fc_value.5.weight -->grad_requirs: True\n-->name: emb_enc_block.att.fc_value.5.bias -->grad_requirs: True\n-->name: emb_enc_block.att.fc_value.6.weight -->grad_requirs: True\n-->name: emb_enc_block.att.fc_value.6.bias -->grad_requirs: True\n-->name: emb_enc_block.att.fc_value.7.weight -->grad_requirs: True\n-->name: emb_enc_block.att.fc_value.7.bias -->grad_requirs: True\n-->name: emb_enc_block.att.fc_out.weight -->grad_requirs: True\n-->name: emb_enc_block.att.fc_out.bias -->grad_requirs: True\n-->name: emb_enc_block.ffn.w1.weight -->grad_requirs: True\n-->name: emb_enc_block.ffn.w1.bias -->grad_requirs: True\n-->name: emb_enc_block.ffn.w2.weight -->grad_requirs: True\n-->name: emb_enc_block.ffn.w2.bias -->grad_requirs: True\n-->name: c2q_att.c_weight -->grad_requirs: True\n-->name: c2q_att.q_weight -->grad_requirs: True\n-->name: c2q_att.cq_weight -->grad_requirs: True\n-->name: c2q_att.bias -->grad_requirs: True\n-->name: c2q_att.fc.weight -->grad_requirs: True\n-->name: c2q_att.fc.bias -->grad_requirs: True\n-->name: mod_enc_blocks.cnn.dsconv.weight -->grad_requirs: True\n-->name: mod_enc_blocks.cnn.dsconv.bias -->grad_requirs: True\n-->name: mod_enc_blocks.att.fc_query.0.weight -->grad_requirs: True\n-->name: mod_enc_blocks.att.fc_query.0.bias -->grad_requirs: True\n-->name: mod_enc_blocks.att.fc_query.1.weight -->grad_requirs: True\n-->name: mod_enc_blocks.att.fc_query.1.bias -->grad_requirs: True\n-->name: mod_enc_blocks.att.fc_query.2.weight -->grad_requirs: True\n-->name: mod_enc_blocks.att.fc_query.2.bias -->grad_requirs: True\n-->name: mod_enc_blocks.att.fc_query.3.weight -->grad_requirs: True\n-->name: mod_enc_blocks.att.fc_query.3.bias -->grad_requirs: True\n-->name: mod_enc_blocks.att.fc_query.4.weight -->grad_requirs: True\n-->name: mod_enc_blocks.att.fc_query.4.bias -->grad_requirs: True\n-->name: mod_enc_blocks.att.fc_query.5.weight -->grad_requirs: True\n-->name: mod_enc_blocks.att.fc_query.5.bias -->grad_requirs: True\n-->name: mod_enc_blocks.att.fc_query.6.weight -->grad_requirs: True\n-->name: mod_enc_blocks.att.fc_query.6.bias -->grad_requirs: True\n-->name: mod_enc_blocks.att.fc_query.7.weight -->grad_requirs: True\n-->name: mod_enc_blocks.att.fc_query.7.bias -->grad_requirs: True\n-->name: mod_enc_blocks.att.fc_key.0.weight -->grad_requirs: True\n-->name: mod_enc_blocks.att.fc_key.0.bias -->grad_requirs: True\n-->name: mod_enc_blocks.att.fc_key.1.weight -->grad_requirs: True\n-->name: mod_enc_blocks.att.fc_key.1.bias -->grad_requirs: True\n-->name: mod_enc_blocks.att.fc_key.2.weight -->grad_requirs: True\n-->name: mod_enc_blocks.att.fc_key.2.bias -->grad_requirs: True\n-->name: mod_enc_blocks.att.fc_key.3.weight -->grad_requirs: True\n-->name: mod_enc_blocks.att.fc_key.3.bias -->grad_requirs: True\n-->name: mod_enc_blocks.att.fc_key.4.weight -->grad_requirs: True\n-->name: mod_enc_blocks.att.fc_key.4.bias -->grad_requirs: True\n-->name: mod_enc_blocks.att.fc_key.5.weight -->grad_requirs: True\n-->name: mod_enc_blocks.att.fc_key.5.bias -->grad_requirs: True\n-->name: mod_enc_blocks.att.fc_key.6.weight -->grad_requirs: True\n-->name: mod_enc_blocks.att.fc_key.6.bias -->grad_requirs: True\n-->name: mod_enc_blocks.att.fc_key.7.weight -->grad_requirs: True\n-->name: mod_enc_blocks.att.fc_key.7.bias -->grad_requirs: True\n-->name: mod_enc_blocks.att.fc_value.0.weight -->grad_requirs: True\n-->name: mod_enc_blocks.att.fc_value.0.bias -->grad_requirs: True\n-->name: mod_enc_blocks.att.fc_value.1.weight -->grad_requirs: True\n-->name: mod_enc_blocks.att.fc_value.1.bias -->grad_requirs: True\n-->name: mod_enc_blocks.att.fc_value.2.weight -->grad_requirs: True\n-->name: mod_enc_blocks.att.fc_value.2.bias -->grad_requirs: True\n-->name: mod_enc_blocks.att.fc_value.3.weight -->grad_requirs: True\n-->name: mod_enc_blocks.att.fc_value.3.bias -->grad_requirs: True\n-->name: mod_enc_blocks.att.fc_value.4.weight -->grad_requirs: True\n-->name: mod_enc_blocks.att.fc_value.4.bias -->grad_requirs: True\n-->name: mod_enc_blocks.att.fc_value.5.weight -->grad_requirs: True\n-->name: mod_enc_blocks.att.fc_value.5.bias -->grad_requirs: True\n-->name: mod_enc_blocks.att.fc_value.6.weight -->grad_requirs: True\n-->name: mod_enc_blocks.att.fc_value.6.bias -->grad_requirs: True\n-->name: mod_enc_blocks.att.fc_value.7.weight -->grad_requirs: True\n-->name: mod_enc_blocks.att.fc_value.7.bias -->grad_requirs: True\n-->name: mod_enc_blocks.att.fc_out.weight -->grad_requirs: True\n-->name: mod_enc_blocks.att.fc_out.bias -->grad_requirs: True\n-->name: mod_enc_blocks.ffn.w1.weight -->grad_requirs: True\n-->name: mod_enc_blocks.ffn.w1.bias -->grad_requirs: True\n-->name: mod_enc_blocks.ffn.w2.weight -->grad_requirs: True\n-->name: mod_enc_blocks.ffn.w2.bias -->grad_requirs: True\n-->name: out.w1.weight -->grad_requirs: True\n-->name: out.w1.bias -->grad_requirs: True\n-->name: out.w2.weight -->grad_requirs: True\n-->name: out.w2.bias -->grad_requirs: True\n"
    }
   ],
   "source": [
    "for name, parms in model.named_parameters():\n",
    "\t    print('-->name:', name, '-->grad_requirs:', parms.requires_grad)"
   ]
  }
 ]
}