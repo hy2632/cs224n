{
 "metadata": {
  "language_info": {
   "codemirror_mode": {
    "name": "ipython",
    "version": 3
   },
   "file_extension": ".py",
   "mimetype": "text/x-python",
   "name": "python",
   "nbconvert_exporter": "python",
   "pygments_lexer": "ipython3",
   "version": 3
  },
  "orig_nbformat": 2,
  "kernelspec": {
   "name": "python_defaultSpec_1597275206731",
   "display_name": "Python 3.6.10 64-bit ('squad': conda)"
  }
 },
 "nbformat": 4,
 "nbformat_minor": 2,
 "cells": [
  {
   "cell_type": "code",
   "execution_count": 1,
   "metadata": {},
   "outputs": [],
   "source": [
    "import numpy as np\n",
    "import torch"
   ]
  },
  {
   "cell_type": "code",
   "execution_count": 2,
   "metadata": {},
   "outputs": [],
   "source": [
    "from util import torch_from_json"
   ]
  },
  {
   "cell_type": "code",
   "execution_count": 3,
   "metadata": {},
   "outputs": [],
   "source": [
    "char_vectors = torch_from_json('./data/char_emb.json')"
   ]
  },
  {
   "cell_type": "code",
   "execution_count": 4,
   "metadata": {},
   "outputs": [
    {
     "output_type": "execute_result",
     "data": {
      "text/plain": "torch.Size([1376, 64])"
     },
     "metadata": {},
     "execution_count": 4
    }
   ],
   "source": [
    "char_vectors.size()"
   ]
  },
  {
   "cell_type": "code",
   "execution_count": 5,
   "metadata": {},
   "outputs": [],
   "source": [
    "word_vectors = torch_from_json('./data/word_emb.json')"
   ]
  },
  {
   "cell_type": "code",
   "execution_count": 6,
   "metadata": {},
   "outputs": [
    {
     "output_type": "execute_result",
     "data": {
      "text/plain": "torch.Size([88714, 300])"
     },
     "metadata": {},
     "execution_count": 6
    }
   ],
   "source": [
    "word_vectors.size()"
   ]
  },
  {
   "cell_type": "code",
   "execution_count": 7,
   "metadata": {},
   "outputs": [],
   "source": [
    "import json\n",
    "\n",
    "with open('./data/char2idx.json', 'r') as fh:\n",
    "    dict = json.load(fh)"
   ]
  },
  {
   "cell_type": "code",
   "execution_count": 10,
   "metadata": {},
   "outputs": [
    {
     "output_type": "execute_result",
     "data": {
      "text/plain": "1376"
     },
     "metadata": {},
     "execution_count": 10
    }
   ],
   "source": [
    "len(dict.keys())"
   ]
  },
  {
   "cell_type": "code",
   "execution_count": 11,
   "metadata": {},
   "outputs": [
    {
     "output_type": "execute_result",
     "data": {
      "text/plain": "torch.Size([1376, 64])"
     },
     "metadata": {},
     "execution_count": 11
    }
   ],
   "source": [
    "char_vectors.size()"
   ]
  },
  {
   "cell_type": "code",
   "execution_count": 6,
   "metadata": {},
   "outputs": [],
   "source": [
    "bs, seq_len, word_len, char_dim = 5, 10, 16, 3"
   ]
  },
  {
   "cell_type": "code",
   "execution_count": 7,
   "metadata": {},
   "outputs": [],
   "source": [
    "char_emb = torch.randn(bs, seq_len, word_len, char_dim)"
   ]
  },
  {
   "cell_type": "code",
   "execution_count": 8,
   "metadata": {},
   "outputs": [
    {
     "output_type": "execute_result",
     "data": {
      "text/plain": "tensor([[-2.0958,  1.2418,  0.5318],\n        [ 0.5192, -1.2130,  0.8903],\n        [ 0.8926, -0.6093,  1.2144],\n        [-0.9555, -0.3949,  1.0606],\n        [-0.9214, -0.1123, -0.0781],\n        [ 0.6793,  0.5488, -0.2245],\n        [ 1.3626, -2.7125,  0.2707],\n        [ 0.1926,  0.2943,  0.1235],\n        [ 0.3701, -0.3281, -0.2328],\n        [-2.3782,  0.5049, -1.2122],\n        [-1.6244,  1.0623,  0.5459],\n        [-0.6253,  0.5185,  0.2691],\n        [ 1.0157, -1.0533, -0.6291],\n        [ 1.5716, -0.6221,  0.6294],\n        [ 0.4461, -1.0636, -0.7831],\n        [ 1.7358,  0.9022, -1.2010]])"
     },
     "metadata": {},
     "execution_count": 8
    }
   ],
   "source": [
    "char_emb[0, 0, :]"
   ]
  },
  {
   "cell_type": "code",
   "execution_count": 17,
   "metadata": {},
   "outputs": [
    {
     "output_type": "execute_result",
     "data": {
      "text/plain": "torch.Size([5, 10, 3])"
     },
     "metadata": {},
     "execution_count": 17
    }
   ],
   "source": [
    "torch.max(char_emb, dim=2, keepdim=True)[0].squeeze(dim=2).size()"
   ]
  }
 ]
}